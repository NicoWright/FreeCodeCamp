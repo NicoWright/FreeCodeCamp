{
 "cells": [
  {
   "cell_type": "markdown",
   "source": [
    "# Time Series Visualizer\r\n",
    "\r\n",
    "For this project you will visualize time series data using a line chart, bar chart, and box plots. You will use Pandas, Matplotlib, and Seaborn to visualize a dataset containing the number of page views each day on the freeCodeCamp.org forum from 2016-05-09 to 2019-12-03. The data visualizations will help you understand the patterns in visits and identify yearly and monthly growth."
   ],
   "metadata": {}
  },
  {
   "cell_type": "code",
   "execution_count": 60,
   "source": [
    "import datetime as dt\r\n",
    "import matplotlib.pyplot as plt\r\n",
    "import pandas as pd\r\n",
    "import seaborn as sns\r\n",
    "from pandas.plotting import register_matplotlib_converters\r\n",
    "register_matplotlib_converters()"
   ],
   "outputs": [],
   "metadata": {}
  },
  {
   "cell_type": "code",
   "execution_count": 144,
   "source": [
    "# Import data (Make sure to parse dates. Consider setting index column to 'date'.)\r\n",
    "df = pd.read_csv('fcc-forum-pageviews.csv', index_col='date', parse_dates=True)\r\n",
    "df.index = pd.to_datetime(df.index)"
   ],
   "outputs": [],
   "metadata": {}
  },
  {
   "cell_type": "markdown",
   "source": [
    "Clean the data by filtering out days when the page views were in the top 2.5% of the dataset or bottom 2.5% of the dataset."
   ],
   "metadata": {}
  },
  {
   "cell_type": "code",
   "execution_count": 88,
   "source": [
    "# Clean data\r\n",
    "df = df[\r\n",
    "    (df['value'] > df['value'].quantile(0.025)) &\r\n",
    "    (df['value'] < df['value'].quantile(0.975))\r\n",
    "]\r\n",
    "df"
   ],
   "outputs": [
    {
     "output_type": "execute_result",
     "data": {
      "text/html": [
       "<div>\n",
       "<style scoped>\n",
       "    .dataframe tbody tr th:only-of-type {\n",
       "        vertical-align: middle;\n",
       "    }\n",
       "\n",
       "    .dataframe tbody tr th {\n",
       "        vertical-align: top;\n",
       "    }\n",
       "\n",
       "    .dataframe thead th {\n",
       "        text-align: right;\n",
       "    }\n",
       "</style>\n",
       "<table border=\"1\" class=\"dataframe\">\n",
       "  <thead>\n",
       "    <tr style=\"text-align: right;\">\n",
       "      <th></th>\n",
       "      <th>value</th>\n",
       "    </tr>\n",
       "    <tr>\n",
       "      <th>date</th>\n",
       "      <th></th>\n",
       "    </tr>\n",
       "  </thead>\n",
       "  <tbody>\n",
       "    <tr>\n",
       "      <th>2016-05-19</th>\n",
       "      <td>19736</td>\n",
       "    </tr>\n",
       "    <tr>\n",
       "      <th>2016-05-26</th>\n",
       "      <td>18060</td>\n",
       "    </tr>\n",
       "    <tr>\n",
       "      <th>2016-05-27</th>\n",
       "      <td>19997</td>\n",
       "    </tr>\n",
       "    <tr>\n",
       "      <th>2016-05-28</th>\n",
       "      <td>19044</td>\n",
       "    </tr>\n",
       "    <tr>\n",
       "      <th>2016-05-29</th>\n",
       "      <td>20325</td>\n",
       "    </tr>\n",
       "    <tr>\n",
       "      <th>...</th>\n",
       "      <td>...</td>\n",
       "    </tr>\n",
       "    <tr>\n",
       "      <th>2019-11-24</th>\n",
       "      <td>138875</td>\n",
       "    </tr>\n",
       "    <tr>\n",
       "      <th>2019-11-29</th>\n",
       "      <td>171584</td>\n",
       "    </tr>\n",
       "    <tr>\n",
       "      <th>2019-11-30</th>\n",
       "      <td>141161</td>\n",
       "    </tr>\n",
       "    <tr>\n",
       "      <th>2019-12-01</th>\n",
       "      <td>142918</td>\n",
       "    </tr>\n",
       "    <tr>\n",
       "      <th>2019-12-03</th>\n",
       "      <td>158549</td>\n",
       "    </tr>\n",
       "  </tbody>\n",
       "</table>\n",
       "<p>1238 rows × 1 columns</p>\n",
       "</div>"
      ],
      "text/plain": [
       "             value\n",
       "date              \n",
       "2016-05-19   19736\n",
       "2016-05-26   18060\n",
       "2016-05-27   19997\n",
       "2016-05-28   19044\n",
       "2016-05-29   20325\n",
       "...            ...\n",
       "2019-11-24  138875\n",
       "2019-11-29  171584\n",
       "2019-11-30  141161\n",
       "2019-12-01  142918\n",
       "2019-12-03  158549\n",
       "\n",
       "[1238 rows x 1 columns]"
      ]
     },
     "metadata": {},
     "execution_count": 88
    }
   ],
   "metadata": {}
  },
  {
   "cell_type": "markdown",
   "source": [
    "Create a draw_line_plot function that uses Matplotlib to draw a line chart similar to \"examples/Figure_1.png\". The title should be \"Daily freeCodeCamp Forum Page Views 5/2016-12/2019\". The label on the x axis should be \"Date\" and the label on the y axis should be \"Page Views\".\r\n"
   ],
   "metadata": {}
  },
  {
   "cell_type": "code",
   "execution_count": null,
   "source": [
    "plt.figure(figsize=(24,6))\r\n",
    "plt.xlabel('Date')\r\n",
    "plt.ylabel('Page Views')\r\n",
    "plt.title('Daily freeCodeCamp Forum Page Views 5/2016 - 12/2019')\r\n",
    "\r\n",
    "plt.plot(df.index, df.value);"
   ],
   "outputs": [],
   "metadata": {}
  },
  {
   "cell_type": "markdown",
   "source": [
    "Create a draw_bar_plot function that draws a bar chart similar to \"examples/Figure_2.png\". It should show average daily page views for each month grouped by year. The legend should show month labels and have a title of \"Months\". On the chart, the label on the x axis should be \"Years\" and the label on the y axis should be \"Average Page Views\"."
   ],
   "metadata": {}
  },
  {
   "cell_type": "code",
   "execution_count": 142,
   "source": [
    "months = {\r\n",
    "    1:'January',\r\n",
    "    2:'February',\r\n",
    "    3:'March',\r\n",
    "    4:'April',\r\n",
    "    5:'May',\r\n",
    "    6:'June',\r\n",
    "    7:'July',\r\n",
    "    8:'August',\r\n",
    "    9:'September',\r\n",
    "    10:'October',\r\n",
    "    11:'November',\r\n",
    "    12:'December'\r\n",
    "}\r\n",
    "hue_order = ['January','February','March','April','May','June','July','August','September','October','November','December']"
   ],
   "outputs": [],
   "metadata": {}
  },
  {
   "cell_type": "code",
   "execution_count": 135,
   "source": [
    "# Copy and modify data for monthly bar plot\r\n",
    "df_bar = df.copy()\r\n",
    "df_bar['Years'] = df.index.year\r\n",
    "df_bar['Months'] = df.index.month.map(months)\r\n",
    "df_bar = df_bar.groupby(['Years','Months'], as_index=False)['value'].mean()"
   ],
   "outputs": [],
   "metadata": {}
  },
  {
   "cell_type": "code",
   "execution_count": 143,
   "source": [
    "# Draw bar plot\r\n",
    "plt.figure(figsize=(12,12))\r\n",
    "sns.barplot(data=df_bar, x='Years', y='value', hue='Months', hue_order=hue_order)\r\n",
    "plt.title('Daile freeCodeCamp Forum Page Views 5/2016-12/2019')\r\n",
    "plt.ylabel('Average Page Views')\r\n",
    "plt.xlabel('Years')"
   ],
   "outputs": [
    {
     "output_type": "execute_result",
     "data": {
      "text/plain": [
       "Text(0.5, 0, 'Years')"
      ]
     },
     "metadata": {},
     "execution_count": 143
    },
    {
     "output_type": "display_data",
     "data": {
      "image/png": "[encoded data removed]",
      "text/plain": [
       "<Figure size 864x864 with 1 Axes>"
      ]
     },
     "metadata": {
      "needs_background": "light"
     }
    }
   ],
   "metadata": {}
  },
  {
   "cell_type": "markdown",
   "source": [
    "Create a draw_box_plot function that uses Searborn to draw two adjacent box plots similar to \"examples/Figure_3.png\". These box plots should show how the values are distributed within a given year or month and how it compares over time. The title of the first chart should be \"Year-wise Box Plot (Trend)\" and the title of the second chart should be \"Month-wise Box Plot (Seasonality)\". Make sure the month labels on bottom start at \"Jan\" and the x and x axis are labeled correctly."
   ],
   "metadata": {}
  },
  {
   "cell_type": "code",
   "execution_count": 166,
   "source": [
    "# Prepare data for box plots (this part is done!)\r\n",
    "df_box = df.copy()\r\n",
    "df_box.reset_index(inplace=True)\r\n",
    "df_box['year'] = [d.year for d in df_box.date]\r\n",
    "df_box['month'] = [d.strftime('%b') for d in df_box.date]\r\n",
    "df_box"
   ],
   "outputs": [
    {
     "output_type": "execute_result",
     "data": {
      "text/html": [
       "<div>\n",
       "<style scoped>\n",
       "    .dataframe tbody tr th:only-of-type {\n",
       "        vertical-align: middle;\n",
       "    }\n",
       "\n",
       "    .dataframe tbody tr th {\n",
       "        vertical-align: top;\n",
       "    }\n",
       "\n",
       "    .dataframe thead th {\n",
       "        text-align: right;\n",
       "    }\n",
       "</style>\n",
       "<table border=\"1\" class=\"dataframe\">\n",
       "  <thead>\n",
       "    <tr style=\"text-align: right;\">\n",
       "      <th></th>\n",
       "      <th>date</th>\n",
       "      <th>value</th>\n",
       "      <th>year</th>\n",
       "      <th>month</th>\n",
       "    </tr>\n",
       "  </thead>\n",
       "  <tbody>\n",
       "    <tr>\n",
       "      <th>0</th>\n",
       "      <td>2016-05-09</td>\n",
       "      <td>1201</td>\n",
       "      <td>2016</td>\n",
       "      <td>May</td>\n",
       "    </tr>\n",
       "    <tr>\n",
       "      <th>1</th>\n",
       "      <td>2016-05-10</td>\n",
       "      <td>2329</td>\n",
       "      <td>2016</td>\n",
       "      <td>May</td>\n",
       "    </tr>\n",
       "    <tr>\n",
       "      <th>2</th>\n",
       "      <td>2016-05-11</td>\n",
       "      <td>1716</td>\n",
       "      <td>2016</td>\n",
       "      <td>May</td>\n",
       "    </tr>\n",
       "    <tr>\n",
       "      <th>3</th>\n",
       "      <td>2016-05-12</td>\n",
       "      <td>10539</td>\n",
       "      <td>2016</td>\n",
       "      <td>May</td>\n",
       "    </tr>\n",
       "    <tr>\n",
       "      <th>4</th>\n",
       "      <td>2016-05-13</td>\n",
       "      <td>6933</td>\n",
       "      <td>2016</td>\n",
       "      <td>May</td>\n",
       "    </tr>\n",
       "    <tr>\n",
       "      <th>...</th>\n",
       "      <td>...</td>\n",
       "      <td>...</td>\n",
       "      <td>...</td>\n",
       "      <td>...</td>\n",
       "    </tr>\n",
       "    <tr>\n",
       "      <th>1299</th>\n",
       "      <td>2019-11-29</td>\n",
       "      <td>171584</td>\n",
       "      <td>2019</td>\n",
       "      <td>Nov</td>\n",
       "    </tr>\n",
       "    <tr>\n",
       "      <th>1300</th>\n",
       "      <td>2019-11-30</td>\n",
       "      <td>141161</td>\n",
       "      <td>2019</td>\n",
       "      <td>Nov</td>\n",
       "    </tr>\n",
       "    <tr>\n",
       "      <th>1301</th>\n",
       "      <td>2019-12-01</td>\n",
       "      <td>142918</td>\n",
       "      <td>2019</td>\n",
       "      <td>Dec</td>\n",
       "    </tr>\n",
       "    <tr>\n",
       "      <th>1302</th>\n",
       "      <td>2019-12-02</td>\n",
       "      <td>220144</td>\n",
       "      <td>2019</td>\n",
       "      <td>Dec</td>\n",
       "    </tr>\n",
       "    <tr>\n",
       "      <th>1303</th>\n",
       "      <td>2019-12-03</td>\n",
       "      <td>158549</td>\n",
       "      <td>2019</td>\n",
       "      <td>Dec</td>\n",
       "    </tr>\n",
       "  </tbody>\n",
       "</table>\n",
       "<p>1304 rows × 4 columns</p>\n",
       "</div>"
      ],
      "text/plain": [
       "           date   value  year month\n",
       "0    2016-05-09    1201  2016   May\n",
       "1    2016-05-10    2329  2016   May\n",
       "2    2016-05-11    1716  2016   May\n",
       "3    2016-05-12   10539  2016   May\n",
       "4    2016-05-13    6933  2016   May\n",
       "...         ...     ...   ...   ...\n",
       "1299 2019-11-29  171584  2019   Nov\n",
       "1300 2019-11-30  141161  2019   Nov\n",
       "1301 2019-12-01  142918  2019   Dec\n",
       "1302 2019-12-02  220144  2019   Dec\n",
       "1303 2019-12-03  158549  2019   Dec\n",
       "\n",
       "[1304 rows x 4 columns]"
      ]
     },
     "metadata": {},
     "execution_count": 166
    }
   ],
   "metadata": {}
  },
  {
   "cell_type": "code",
   "execution_count": 169,
   "source": [
    "# Draw box plots (using Seaborn)\r\n",
    "fig, axes = plt.subplots(1,2, figsize=(18,6))\r\n",
    "ax1 = axes[0]\r\n",
    "sns.boxplot(data=df_box, x='year', y='value', ax=ax1)\r\n",
    "ax1.set_xlabel('Year')\r\n",
    "ax1.set_ylabel('Page Views')\r\n",
    "ax1.set_title('Year-wise Box Plot (Trend)')\r\n",
    "\r\n",
    "ax2 = axes[1]\r\n",
    "sns.boxplot(data=df_box, x='month', y='value', ax=ax2, order=['Jan','Feb','Mar','Apr','May','Jun','Jul','Aug','Sep','Oct','Nov','Dec'])\r\n",
    "ax2.set(xlabel='Month', ylabel='Page Views', title='Month-wise Box Plot (Seasonality)')"
   ],
   "outputs": [
    {
     "output_type": "execute_result",
     "data": {
      "text/plain": [
       "[Text(0.5, 0, 'Month'),\n",
       " Text(0, 0.5, 'Page Views'),\n",
       " Text(0.5, 1.0, 'Month-wise Box Plot (Seasonality')]"
      ]
     },
     "metadata": {},
     "execution_count": 169
    },
    {
     "output_type": "display_data",
     "data": {
      "image/png": "[encoded data removed]",
      "text/plain": [
       "<Figure size 1296x432 with 2 Axes>"
      ]
     },
     "metadata": {
      "needs_background": "light"
     }
    }
   ],
   "metadata": {}
  },
  {
   "cell_type": "code",
   "execution_count": null,
   "source": [],
   "outputs": [],
   "metadata": {}
  },
  {
   "cell_type": "code",
   "execution_count": null,
   "source": [],
   "outputs": [],
   "metadata": {}
  },
  {
   "cell_type": "code",
   "execution_count": null,
   "source": [],
   "outputs": [],
   "metadata": {}
  }
 ],
 "metadata": {
  "orig_nbformat": 4,
  "language_info": {
   "name": "python",
   "version": "3.9.5",
   "mimetype": "text/x-python",
   "codemirror_mode": {
    "name": "ipython",
    "version": 3
   },
   "pygments_lexer": "ipython3",
   "nbconvert_exporter": "python",
   "file_extension": ".py"
  },
  "kernelspec": {
   "name": "python3",
   "display_name": "Python 3.9.5 64-bit ('base': conda)"
  },
  "interpreter": {
   "hash": "44bffcc2524e38608a696a60ab9c1ef6baa0a68b85b72c7901edd1bc52de9274"
  }
 },
 "nbformat": 4,
 "nbformat_minor": 2
}