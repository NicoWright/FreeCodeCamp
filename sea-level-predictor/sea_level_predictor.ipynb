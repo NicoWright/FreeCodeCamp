{
 "cells": [
  {
   "cell_type": "markdown",
   "source": [
    "# Sea Level Predictor\r\n",
    "\r\n",
    "You will anaylize a dataset of the global average sea level change since 1880. You will use the data to predict the sea level change through year 2050.\r\n",
    "\r\n",
    "Use the data to complete the following tasks:\r\n",
    "* Use Pandas to import the data from `epa-sea-level.csv`.\r\n",
    "* Use matplotlib to create a scatter plot using the \"Year\" column as the x-axis and the \"CSIRO Adjusted Sea Level\" column as the y-axix.\r\n",
    "* Use the `linregress` function from `scipy.stats` to get the slope and y-intercept of the line of best fit. Plot the line of best fit over the top of the scatter plot. Make the line go through the year 2050 to predict the sea level rise in 2050.\r\n",
    "* Plot a new line of best fit just using the data from year 2000 through the most recent year in the dataset. Make the line also go through the year 2050 to predict the sea level rise in 2050 if the rate of rise continues as it has since the year 2000.\r\n",
    "* The x label should be \"Year\", the y label should be \"Sea Level (inches)\", and the title should be \"Rise in Sea Level\"."
   ],
   "metadata": {}
  },
  {
   "cell_type": "code",
   "execution_count": 35,
   "source": [
    "import numpy as np\r\n",
    "import pandas as pd\r\n",
    "import matplotlib.pyplot as plt\r\n",
    "from scipy.stats import linregress"
   ],
   "outputs": [],
   "metadata": {}
  },
  {
   "cell_type": "markdown",
   "source": [
    "## Draw Plot"
   ],
   "metadata": {}
  },
  {
   "cell_type": "code",
   "execution_count": 54,
   "source": [
    "# Read data from file\r\n",
    "df = pd.read_csv('epa-sea-level.csv')\r\n",
    "df['Year'].astype"
   ],
   "outputs": [
    {
     "output_type": "execute_result",
     "data": {
      "text/plain": [
       "0      1880\n",
       "1      1881\n",
       "2      1882\n",
       "3      1883\n",
       "4      1884\n",
       "       ... \n",
       "129    2009\n",
       "130    2010\n",
       "131    2011\n",
       "132    2012\n",
       "133    2013\n",
       "Name: Year, Length: 134, dtype: int64"
      ]
     },
     "metadata": {},
     "execution_count": 54
    }
   ],
   "metadata": {}
  },
  {
   "cell_type": "code",
   "execution_count": 63,
   "source": [
    "ax = fig.gca()\r\n",
    "ax.get_xticks().tolist()"
   ],
   "outputs": [
    {
     "output_type": "execute_result",
     "data": {
      "text/plain": [
       "[1850.0,\n",
       " 1875.0,\n",
       " 1900.0,\n",
       " 1925.0,\n",
       " 1950.0,\n",
       " 1975.0,\n",
       " 2000.0,\n",
       " 2025.0,\n",
       " 2050.0,\n",
       " 2075.0]"
      ]
     },
     "metadata": {},
     "execution_count": 63
    }
   ],
   "metadata": {}
  },
  {
   "cell_type": "code",
   "execution_count": 64,
   "source": [
    "# Add labels and title\r\n",
    "fig = plt.figure(figsize=(12,9))\r\n",
    "plt.xlabel('Year')\r\n",
    "plt.ylabel('Sea Level (inches)') \r\n",
    "plt.title('Rise in Sea Level')\r\n",
    "\r\n",
    "# Create scatter plot\r\n",
    "plt.scatter(x=df['Year'], y=df['CSIRO Adjusted Sea Level'])\r\n",
    "plt.scatter(line1_x, line1_y)\r\n",
    "plt.scatter(line2_x, line2_y)"
   ],
   "outputs": [
    {
     "output_type": "execute_result",
     "data": {
      "text/plain": [
       "<matplotlib.collections.PathCollection at 0x1e7c5915970>"
      ]
     },
     "metadata": {},
     "execution_count": 64
    },
    {
     "output_type": "display_data",
     "data": {
      "image/png": "[encoded data removed]",
      "text/plain": [
       "<Figure size 864x648 with 1 Axes>"
      ]
     },
     "metadata": {
      "needs_background": "light"
     }
    }
   ],
   "metadata": {}
  },
  {
   "cell_type": "code",
   "execution_count": null,
   "source": [
    "line1_plot = []\r\n",
    "for val in df['Year']:\r\n",
    "    line1_plot = (line1.slope * val) + line1.intercept"
   ],
   "outputs": [],
   "metadata": {}
  },
  {
   "cell_type": "code",
   "execution_count": 76,
   "source": [
    "# Create first line of best fit\r\n",
    "line1 = linregress(x=df['Year'], y=df['CSIRO Adjusted Sea Level'])\r\n",
    "# y = mx + c\r\n",
    "line1_x = df['Year']\r\n",
    "line1_y = line1.slope * line1_x + line1.intercept\r\n",
    "#print(len(line1_x))\r\n",
    "#print(len(line1_y))\r\n"
   ],
   "outputs": [],
   "metadata": {}
  },
  {
   "cell_type": "code",
   "execution_count": 81,
   "source": [
    "# Create second line of best fit\r\n",
    "df2 = df[df['Year']>=2000]\r\n",
    "line2 = linregress(x=df2['Year'], y=df2['CSIRO Adjusted Sea Level'])\r\n",
    "# y = mx + c\r\n",
    "line2_x = df2['Year']\r\n",
    "line2_y = line2.slope * line2_x + line2.intercept"
   ],
   "outputs": [],
   "metadata": {}
  },
  {
   "cell_type": "code",
   "execution_count": 83,
   "source": [
    "print(len(df.Year), len(line1_x), len(line2_x))\r\n"
   ],
   "outputs": [
    {
     "output_type": "stream",
     "name": "stdout",
     "text": [
      "134 134 14\n"
     ]
    }
   ],
   "metadata": {}
  }
 ],
 "metadata": {
  "orig_nbformat": 4,
  "language_info": {
   "name": "python",
   "version": "3.9.5",
   "mimetype": "text/x-python",
   "codemirror_mode": {
    "name": "ipython",
    "version": 3
   },
   "pygments_lexer": "ipython3",
   "nbconvert_exporter": "python",
   "file_extension": ".py"
  },
  "kernelspec": {
   "name": "python3",
   "display_name": "Python 3.9.5 64-bit ('base': conda)"
  },
  "interpreter": {
   "hash": "44bffcc2524e38608a696a60ab9c1ef6baa0a68b85b72c7901edd1bc52de9274"
  }
 },
 "nbformat": 4,
 "nbformat_minor": 2
}